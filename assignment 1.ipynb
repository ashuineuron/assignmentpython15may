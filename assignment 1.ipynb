{
 "cells": [
  {
   "cell_type": "code",
   "execution_count": null,
   "id": "af7f98fa",
   "metadata": {},
   "outputs": [],
   "source": [
    "1. In the below elements which of them are values or an expression? eg:- values can be\n",
    "integer or string and expressions will be mathematical operators.\n",
    "\n",
    "*\n",
    "'hello'\n",
    "-87.8\n",
    "-\n",
    "/\n",
    "+\n",
    "6\n",
    "\n",
    "\n",
    "'hello' is string\n",
    "-87.8 is floating \n",
    "6 is integer\n",
    "rest are mathematical operators."
   ]
  },
  {
   "cell_type": "code",
   "execution_count": null,
   "id": "d358b385",
   "metadata": {},
   "outputs": [],
   "source": [
    "2. What is the difference between string and variable?\n",
    "\n",
    "varaiable is a denotation which represents whole string or other information in any form(string, integer, float)\n",
    "while string is array of bytes includes 1 to triilions of characters.\n",
    "For example   A= 'started learning python'\n",
    "In above example A is Variable which denotes whole string given in single quotes"
   ]
  },
  {
   "cell_type": "code",
   "execution_count": null,
   "id": "4483b4df",
   "metadata": {},
   "outputs": [],
   "source": [
    "3. Describe three different data types.\n",
    "\n",
    "integer - this data type represents any numeric value, for example 1,2,3....\n",
    "string - this data type represents charcters, for example \"hello world\"\n",
    "boolian - it is used to represent the truth values of expressions it represents on of two values i.e. true or false for exmaple 2<1 is False, 3<4 is True"
   ]
  },
  {
   "cell_type": "code",
   "execution_count": null,
   "id": "02642c36",
   "metadata": {},
   "outputs": [],
   "source": [
    "4. What is an expression made up of? What do all expressions do?\n",
    "\n",
    "Expression is a combination of operaters and operands that is inerpreted to produce some other values"
   ]
  },
  {
   "cell_type": "code",
   "execution_count": null,
   "id": "009cf1c9",
   "metadata": {},
   "outputs": [],
   "source": [
    "5. This assignment statements, like spam = 10. What is the difference between an\n",
    "expression and a statement?\n",
    "\n",
    "Here spam=10 is a statement that is considered as instruction that a interpreter can execute,\n",
    "where as expression is combination of operators , = is a expression"
   ]
  },
  {
   "cell_type": "code",
   "execution_count": 3,
   "id": "7dd094b3",
   "metadata": {},
   "outputs": [
    {
     "name": "stdout",
     "output_type": "stream",
     "text": [
      "Object `contain` not found.\n"
     ]
    },
    {
     "data": {
      "text/plain": [
       "23"
      ]
     },
     "execution_count": 3,
     "metadata": {},
     "output_type": "execute_result"
    }
   ],
   "source": [
    "6. After running the following code, what does the variable bacon contain?\n",
    "bacon = 22\n",
    "bacon + 1\n",
    "\n",
    "\n",
    "bacon= 22\n",
    "bacon+1\n"
   ]
  },
  {
   "cell_type": "code",
   "execution_count": null,
   "id": "55948877",
   "metadata": {},
   "outputs": [],
   "source": [
    "7. What should the values of the following two terms be?\n",
    "'spam'+'spamspam'\n",
    "'spam'* 3\n",
    "\n",
    "'spamspamspam'\n",
    "'spamspamspam'"
   ]
  },
  {
   "cell_type": "code",
   "execution_count": null,
   "id": "b1f83cdb",
   "metadata": {},
   "outputs": [],
   "source": [
    "8. Why is eggs a valid variable name while 100 is invalid?\n",
    "\n",
    "only alphabetical or alphanumeric values can become variable, and 100 is a numeric "
   ]
  },
  {
   "cell_type": "code",
   "execution_count": null,
   "id": "df9b70fc",
   "metadata": {},
   "outputs": [],
   "source": [
    "9. What three functions can be used to get the integer, floating-point number, or string\n",
    "version of a value?\n",
    "\n",
    "\n",
    "Int()\n",
    "Float()\n",
    "Str()"
   ]
  },
  {
   "cell_type": "code",
   "execution_count": null,
   "id": "b041b929",
   "metadata": {},
   "outputs": [],
   "source": [
    "10. Why does this expression cause an error? How can you fix it?\n",
    "'I have eaten' +99 +'burritos'\n",
    "\n",
    "\n",
    "99 is a numeric value which cant be add to a string until it is considered as string \n",
    "'I have eaten' + str(99) +'burritos'"
   ]
  },
  {
   "cell_type": "code",
   "execution_count": null,
   "id": "377edfc4",
   "metadata": {},
   "outputs": [],
   "source": []
  }
 ],
 "metadata": {
  "kernelspec": {
   "display_name": "Python 3 (ipykernel)",
   "language": "python",
   "name": "python3"
  },
  "language_info": {
   "codemirror_mode": {
    "name": "ipython",
    "version": 3
   },
   "file_extension": ".py",
   "mimetype": "text/x-python",
   "name": "python",
   "nbconvert_exporter": "python",
   "pygments_lexer": "ipython3",
   "version": "3.9.7"
  }
 },
 "nbformat": 4,
 "nbformat_minor": 5
}
